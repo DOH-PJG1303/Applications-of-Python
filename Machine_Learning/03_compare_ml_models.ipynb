{
 "cells": [
  {
   "attachments": {},
   "cell_type": "markdown",
   "metadata": {},
   "source": [
    "# Compare ML models\n",
    "---------\n",
    "\n",
    "\n",
    "### Author Information\n",
    "**Author:** PJ Gibson  \n",
    "**Email:** Peter.Gibson@doh.wa.gov  \n",
    "**Github:**   https://github.com/DOH-PJG1303\n",
    "\n",
    "### Project Information\n",
    "**Created Date:** 2023-05-23  \n",
    "**Last Updated:** 2023-05-23  \n",
    "**Version:** 1  \n",
    "\n",
    "### Description\n",
    "This notebook should serve to educate newcomers to Python on comparing Machine Learning techniques in the context of Record Linkage.\n",
    "\n",
    "### Notes"
   ]
  },
  {
   "attachments": {},
   "cell_type": "markdown",
   "metadata": {},
   "source": [
    "## 1. Import libs"
   ]
  },
  {
   "cell_type": "code",
   "execution_count": null,
   "metadata": {},
   "outputs": [],
   "source": [
    "# Data Analysis Libs\n",
    "import pandas as pd\n",
    "import numpy as np\n",
    "\n",
    "# ML Libs / functions\n",
    "from sklearn.metrics import confusion_matrix, accuracy_score, precision_score, recall_score, f1_score, roc_auc_score\n",
    "\n",
    "from sklearn.model_selection import GridSearchCV, train_test_split\n",
    "from sklearn.linear_model import LogisticRegression\n",
    "from sklearn.svm import SVC\n",
    "from sklearn.naive_bayes import GaussianNB\n",
    "from sklearn.ensemble import RandomForestClassifier, GradientBoostingClassifier\n",
    "from sklearn.neural_network import MLPClassifier"
   ]
  },
  {
   "attachments": {},
   "cell_type": "markdown",
   "metadata": {},
   "source": [
    "## 2. Data Prep"
   ]
  },
  {
   "attachments": {},
   "cell_type": "markdown",
   "metadata": {},
   "source": [
    "### 2.1 Read in training data\n",
    "\n",
    "Multi-index data with the following columns:\n",
    "* fname\n",
    "* lname\n",
    "* dob\n",
    "* phone\n",
    "* add\n",
    "* label"
   ]
  },
  {
   "cell_type": "code",
   "execution_count": null,
   "metadata": {},
   "outputs": [],
   "source": [
    "df_training = pd.read_csv('Data/synthetic_training_data.csv',index_col=[0,1])"
   ]
  },
  {
   "attachments": {},
   "cell_type": "markdown",
   "metadata": {},
   "source": [
    "### 2.2 Test Train Split"
   ]
  },
  {
   "cell_type": "code",
   "execution_count": null,
   "metadata": {},
   "outputs": [],
   "source": [
    "# Split the data into features (X) and labels (y)\n",
    "X = df_training.drop(columns='label')\n",
    "y = df_training['label']\n",
    "\n",
    "# Split up into 80% training data, 20% testing\n",
    "X_train, X_test, y_train, y_test = train_test_split(X, y, test_size=0.2, random_state=42)"
   ]
  },
  {
   "attachments": {},
   "cell_type": "markdown",
   "metadata": {},
   "source": [
    "## 3. Model Work"
   ]
  },
  {
   "attachments": {},
   "cell_type": "markdown",
   "metadata": {},
   "source": [
    "### 3.1 Define models and param search spaces"
   ]
  },
  {
   "cell_type": "code",
   "execution_count": null,
   "metadata": {},
   "outputs": [],
   "source": [
    "# Define models and parameters\n",
    "models = [\n",
    "    ('Logistic Regression', LogisticRegression(), { 'solver' : ['liblinear'] ,'penalty': ['l1', 'l2'], 'C': [0.1, 1, 10]}),\n",
    "    ('Naive Bayes', GaussianNB(), {}),\n",
    "    ('Random Forest', RandomForestClassifier(), {'n_estimators': [10, 100, 1000], 'max_depth': [None, 10, 20]}),\n",
    "    ('Gradient Boosting', GradientBoostingClassifier(), {'n_estimators': [10, 100, 1000], 'learning_rate': [0.1, 0.01, 0.001]}),\n",
    "    ('MLP', MLPClassifier(), {'hidden_layer_sizes': [(50,), (100,)], 'activation': ['relu', 'tanh', 'logistic'], 'learning_rate': ['constant', 'invscaling', 'adaptive']})\n",
    "]"
   ]
  },
  {
   "attachments": {},
   "cell_type": "markdown",
   "metadata": {},
   "source": [
    "### 3.2 Train, Test, Evaluate\n",
    "\n",
    "\n",
    "#### NOTE: this took nearly 3 hours to run"
   ]
  },
  {
   "cell_type": "code",
   "execution_count": null,
   "metadata": {},
   "outputs": [],
   "source": [
    "# Create a dataframe to store the results\n",
    "results = pd.DataFrame(columns=['model_type', 'model_parameters', 'num_true_positives', 'num_false_positives', 'num_true_negatives', 'num_false_negatives', 'accuracy', 'precision', 'recall', 'f1_score','roc_auc'])\n",
    "\n",
    "# For each model\n",
    "for name, model, params in models:\n",
    "\n",
    "    # Perform a grid search with cross-validation\n",
    "    grid = GridSearchCV(model, params, cv=5)\n",
    "    grid.fit(X_train, y_train)\n",
    "\n",
    "    # Get the best estimator\n",
    "    best_model = grid.best_estimator_\n",
    "\n",
    "    # Make predictions\n",
    "    y_pred = best_model.predict(X_test)\n",
    "    y_proba = best_model.predict_proba(X_test)[:, 1]\n",
    "\n",
    "    # Calculate metrics\n",
    "    tn, fp, fn, tp = confusion_matrix(y_test, y_pred).ravel()\n",
    "    accuracy = accuracy_score(y_test, y_pred)\n",
    "    precision = precision_score(y_test, y_pred)\n",
    "    recall = recall_score(y_test, y_pred)\n",
    "    f1 = f1_score(y_test, y_pred)\n",
    "    roc_auc = roc_auc_score(y_test, y_proba)\n",
    "\n",
    "    # Append to the results dataframe\n",
    "    results = results.append({\n",
    "        'model_type': name,\n",
    "        'model_parameters': grid.best_params_,\n",
    "        'num_true_positives': tp,\n",
    "        'num_false_positives': fp,\n",
    "        'num_true_negatives': tn,\n",
    "        'num_false_negatives': fn,\n",
    "        'accuracy': accuracy,\n",
    "        'precision': precision,\n",
    "        'recall': recall,\n",
    "        'f1_score': f1,\n",
    "        'roc_auc': roc_auc\n",
    "    }, ignore_index=True)\n",
    "\n",
    "    print(f'{name} training complete!')\n",
    "\n",
    "results"
   ]
  },
  {
   "attachments": {},
   "cell_type": "markdown",
   "metadata": {},
   "source": [
    "## 4. Save"
   ]
  },
  {
   "cell_type": "code",
   "execution_count": null,
   "metadata": {},
   "outputs": [],
   "source": [
    "results.to_csv('./Data/model_comparisons.csv', index=False)"
   ]
  }
 ],
 "metadata": {
  "kernelspec": {
   "display_name": ".venv",
   "language": "python",
   "name": "python3"
  },
  "language_info": {
   "codemirror_mode": {
    "name": "ipython",
    "version": 3
   },
   "file_extension": ".py",
   "mimetype": "text/x-python",
   "name": "python",
   "nbconvert_exporter": "python",
   "pygments_lexer": "ipython3",
   "version": "3.8.5"
  },
  "orig_nbformat": 4
 },
 "nbformat": 4,
 "nbformat_minor": 2
}
