{
 "cells": [
  {
   "attachments": {},
   "cell_type": "markdown",
   "metadata": {},
   "source": [
    "# Selenium Setup\n",
    "\n",
    "## 1. Manual Setup\n",
    "\n",
    "### 1.1 Install Selenium\n",
    "\n",
    "Once you have pip installed, you can use it to install Selenium. Run the following command in your terminal:\n",
    "\n",
    "```bash\n",
    "pip install selenium\n",
    "```\n",
    "\n",
    "### 1.2 Check Chrome Version\n",
    "\n",
    "Selenium requires a driver to interface with the chosen browser. ChromeDriver is the WebDriver for Chrome and is needed to run tests in Chrome. You need to download the ChromeDriver version that matches the version of Chrome installed on your machine. \n",
    "\n",
    "To check your Chrome version:\n",
    "\n",
    "1. Open Chrome.\n",
    "2. Click on the three dots in the top right corner.\n",
    "3. Go to \"Help\" -> \"About Google Chrome\".\n",
    "4. Here, you can see the version of your Chrome browser.\n",
    "\n",
    "### 1.3 Install Chromedriver\n",
    "\n",
    "After you've identified your Chrome version, you can download the corresponding ChromeDriver from the ChromeDriver download page: https://sites.google.com/a/chromium.org/chromedriver/downloads\n",
    "\n",
    "### 1.4 Add ChromeDriver to System Path\n",
    "\n",
    "After downloading the ChromeDriver, you need to add it to your system's PATH. \n",
    "\n",
    "For Windows:\n",
    "\n",
    "1. Extract the downloaded `chromedriver.exe` file.\n",
    "2. Add the directory containing `chromedriver.exe` to the System PATH. **NOTE WHICH DIRECTORY THIS IS FOR CODING STEP**\n",
    "3. You can do this by opening System Properties -> Advanced -> Environment Variables, then editing the PATH variable to include the path of your `chromedriver.exe`.\n",
    "\n",
    "For Unix/macOS:\n",
    "\n",
    "1. Move the downloaded `chromedriver` to `/usr/local/bin` directory (or any directory in your system PATH).\n",
    "2. Make it executable using the command: `chmod +x /usr/local/bin/chromedriver`\n",
    "\n",
    "\n",
    "Now, you should be all set to use Selenium with Python!\n",
    "\n",
    "## 2. Code Setup\n",
    "\n",
    "Please run the following cell to point to the location of your selenium webdriver.\n",
    "The location of this file is protected in our .gitignore file, so it will not appear in Github when you modify it.\n",
    "We designed it this way for privacy purposes.\n",
    "Without this script, the selenium web-scraping example will not work."
   ]
  },
  {
   "cell_type": "code",
   "execution_count": 1,
   "metadata": {},
   "outputs": [],
   "source": [
    "import pickle\n",
    "\n",
    "webdriver_path = input('Please enter your path for your `chromedriver.exe` file.  On windows, this should look something like:\\nC:/user/yourname/path/to/chromedriver.exe')\n",
    "\n",
    "with open('./Data/secret_webdriverpath.pkl', 'wb') as file:\n",
    "    pickle.dump(webdriver_path, file)"
   ]
  }
 ],
 "metadata": {
  "kernelspec": {
   "display_name": ".venv",
   "language": "python",
   "name": "python3"
  },
  "language_info": {
   "codemirror_mode": {
    "name": "ipython",
    "version": 3
   },
   "file_extension": ".py",
   "mimetype": "text/x-python",
   "name": "python",
   "nbconvert_exporter": "python",
   "pygments_lexer": "ipython3",
   "version": "3.8.5"
  },
  "orig_nbformat": 4
 },
 "nbformat": 4,
 "nbformat_minor": 2
}
