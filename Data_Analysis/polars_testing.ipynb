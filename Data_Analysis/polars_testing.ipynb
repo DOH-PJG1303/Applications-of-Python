{
 "cells": [
  {
   "cell_type": "code",
   "execution_count": 1,
   "metadata": {},
   "outputs": [],
   "source": [
    "import os\n",
    "import pandas as pd\n",
    "import numpy as np\n",
    "from pandasql import sqldf"
   ]
  },
  {
   "cell_type": "code",
   "execution_count": 2,
   "metadata": {},
   "outputs": [
    {
     "data": {
      "text/html": [
       "<div>\n",
       "<style scoped>\n",
       "    .dataframe tbody tr th:only-of-type {\n",
       "        vertical-align: middle;\n",
       "    }\n",
       "\n",
       "    .dataframe tbody tr th {\n",
       "        vertical-align: top;\n",
       "    }\n",
       "\n",
       "    .dataframe thead th {\n",
       "        text-align: right;\n",
       "    }\n",
       "</style>\n",
       "<table border=\"1\" class=\"dataframe\">\n",
       "  <thead>\n",
       "    <tr style=\"text-align: right;\">\n",
       "      <th></th>\n",
       "      <th>START</th>\n",
       "      <th>STOP</th>\n",
       "      <th>PATIENT</th>\n",
       "      <th>PAYER</th>\n",
       "      <th>ENCOUNTER</th>\n",
       "      <th>CODE</th>\n",
       "      <th>MEDDESCRIPTION</th>\n",
       "      <th>BASE_COST</th>\n",
       "      <th>PAYER_COVERAGE</th>\n",
       "      <th>DISPENSES</th>\n",
       "      <th>TOTALCOST</th>\n",
       "      <th>REASONCODE</th>\n",
       "      <th>REASONDESCRIPTION</th>\n",
       "    </tr>\n",
       "  </thead>\n",
       "  <tbody>\n",
       "    <tr>\n",
       "      <th>0</th>\n",
       "      <td>1979-05-13 00:00:00+00:00</td>\n",
       "      <td>1980-05-18 00:00:00+00:00</td>\n",
       "      <td>487474a8-8433-4fa8-a12b-31f66b2d981a</td>\n",
       "      <td>047f6ec3-6215-35eb-9608-f9dda363a44c</td>\n",
       "      <td>61ecb1a4-0043-4b90-a592-80a89750d591</td>\n",
       "      <td>999967</td>\n",
       "      <td>amLODIPine 5 MG / Hydrochlorothiazide 12.5 MG ...</td>\n",
       "      <td>263.49</td>\n",
       "      <td>0.0</td>\n",
       "      <td>12.0</td>\n",
       "      <td>3161.88</td>\n",
       "      <td>59621000.0</td>\n",
       "      <td>Hypertension</td>\n",
       "    </tr>\n",
       "    <tr>\n",
       "      <th>1</th>\n",
       "      <td>1980-05-18 00:00:00+00:00</td>\n",
       "      <td>1981-05-24 00:00:00+00:00</td>\n",
       "      <td>487474a8-8433-4fa8-a12b-31f66b2d981a</td>\n",
       "      <td>047f6ec3-6215-35eb-9608-f9dda363a44c</td>\n",
       "      <td>eebad44d-44f5-45fa-baba-1f511db41ddc</td>\n",
       "      <td>999967</td>\n",
       "      <td>amLODIPine 5 MG / Hydrochlorothiazide 12.5 MG ...</td>\n",
       "      <td>263.49</td>\n",
       "      <td>0.0</td>\n",
       "      <td>12.0</td>\n",
       "      <td>3161.88</td>\n",
       "      <td>59621000.0</td>\n",
       "      <td>Hypertension</td>\n",
       "    </tr>\n",
       "    <tr>\n",
       "      <th>2</th>\n",
       "      <td>1981-05-24 00:00:00+00:00</td>\n",
       "      <td>1982-05-30 00:00:00+00:00</td>\n",
       "      <td>487474a8-8433-4fa8-a12b-31f66b2d981a</td>\n",
       "      <td>047f6ec3-6215-35eb-9608-f9dda363a44c</td>\n",
       "      <td>15678fe9-dacc-41b3-b9dd-0c54d4473442</td>\n",
       "      <td>999967</td>\n",
       "      <td>amLODIPine 5 MG / Hydrochlorothiazide 12.5 MG ...</td>\n",
       "      <td>263.49</td>\n",
       "      <td>0.0</td>\n",
       "      <td>12.0</td>\n",
       "      <td>3161.88</td>\n",
       "      <td>59621000.0</td>\n",
       "      <td>Hypertension</td>\n",
       "    </tr>\n",
       "  </tbody>\n",
       "</table>\n",
       "</div>"
      ],
      "text/plain": [
       "                       START                       STOP  \\\n",
       "0  1979-05-13 00:00:00+00:00  1980-05-18 00:00:00+00:00   \n",
       "1  1980-05-18 00:00:00+00:00  1981-05-24 00:00:00+00:00   \n",
       "2  1981-05-24 00:00:00+00:00  1982-05-30 00:00:00+00:00   \n",
       "\n",
       "                                PATIENT                                 PAYER  \\\n",
       "0  487474a8-8433-4fa8-a12b-31f66b2d981a  047f6ec3-6215-35eb-9608-f9dda363a44c   \n",
       "1  487474a8-8433-4fa8-a12b-31f66b2d981a  047f6ec3-6215-35eb-9608-f9dda363a44c   \n",
       "2  487474a8-8433-4fa8-a12b-31f66b2d981a  047f6ec3-6215-35eb-9608-f9dda363a44c   \n",
       "\n",
       "                              ENCOUNTER    CODE  \\\n",
       "0  61ecb1a4-0043-4b90-a592-80a89750d591  999967   \n",
       "1  eebad44d-44f5-45fa-baba-1f511db41ddc  999967   \n",
       "2  15678fe9-dacc-41b3-b9dd-0c54d4473442  999967   \n",
       "\n",
       "                                      MEDDESCRIPTION  BASE_COST  \\\n",
       "0  amLODIPine 5 MG / Hydrochlorothiazide 12.5 MG ...     263.49   \n",
       "1  amLODIPine 5 MG / Hydrochlorothiazide 12.5 MG ...     263.49   \n",
       "2  amLODIPine 5 MG / Hydrochlorothiazide 12.5 MG ...     263.49   \n",
       "\n",
       "   PAYER_COVERAGE  DISPENSES  TOTALCOST  REASONCODE REASONDESCRIPTION  \n",
       "0             0.0       12.0    3161.88  59621000.0      Hypertension  \n",
       "1             0.0       12.0    3161.88  59621000.0      Hypertension  \n",
       "2             0.0       12.0    3161.88  59621000.0      Hypertension  "
      ]
     },
     "execution_count": 2,
     "metadata": {},
     "output_type": "execute_result"
    }
   ],
   "source": [
    "# Loading in the data\n",
    "df = pd.read_csv('synthea_medication_data.csv')\n",
    "# Limiting the columns to the ones we need\n",
    "# df = df[['PATIENT', 'MEDDESCRIPTION', 'BASE_COST', 'REASONDESCRIPTION']]\n",
    "# Displaying the top 3 records\n",
    "df.head(3)"
   ]
  },
  {
   "cell_type": "code",
   "execution_count": 3,
   "metadata": {},
   "outputs": [
    {
     "data": {
      "text/plain": [
       "0    487474a8-8433-4fa8-a12b-31f66b2d981a\n",
       "1    487474a8-8433-4fa8-a12b-31f66b2d981a\n",
       "2    487474a8-8433-4fa8-a12b-31f66b2d981a\n",
       "Name: PATIENT, dtype: object"
      ]
     },
     "execution_count": 3,
     "metadata": {},
     "output_type": "execute_result"
    }
   ],
   "source": [
    "# Selecting the first 3 records of the patient column\n",
    "df['PATIENT'].head(3)"
   ]
  },
  {
   "cell_type": "code",
   "execution_count": 4,
   "metadata": {},
   "outputs": [
    {
     "data": {
      "text/plain": [
       "REASONDESCRIPTION\n",
       "Hypertension        3174\n",
       "Diabetes            2732\n",
       "Childhood asthma    1356\n",
       "Name: PATIENT, dtype: int64"
      ]
     },
     "execution_count": 4,
     "metadata": {},
     "output_type": "execute_result"
    }
   ],
   "source": [
    "# Getting the count of people with a particular affliction and sorting by most frequent\n",
    "df.where(df[\"REASONDESCRIPTION\"].notnull()).groupby(\"REASONDESCRIPTION\")[\"PATIENT\"].count().sort_values(ascending=False).head(3)"
   ]
  },
  {
   "cell_type": "code",
   "execution_count": 5,
   "metadata": {},
   "outputs": [
    {
     "ename": "ObjectNotExecutableError",
     "evalue": "Not an executable object: 'select REASONDESCRIPTION, count(PATIENT) from df where REASONDESCRIPTION IS NOT NULL GROUP BY REASONDESCRIPTION ORDER BY count(PATIENT) DESC'",
     "output_type": "error",
     "traceback": [
      "\u001b[1;31m---------------------------------------------------------------------------\u001b[0m",
      "\u001b[1;31mAttributeError\u001b[0m                            Traceback (most recent call last)",
      "File \u001b[1;32mc:\\Users\\gmb4303\\Documents\\GitHub\\PythonPreziPandasPolars\\CSTE-Presentation-2023\\.venv\\lib\\site-packages\\sqlalchemy\\engine\\base.py:1410\u001b[0m, in \u001b[0;36mConnection.execute\u001b[1;34m(self, statement, parameters, execution_options)\u001b[0m\n\u001b[0;32m   1409\u001b[0m \u001b[39mtry\u001b[39;00m:\n\u001b[1;32m-> 1410\u001b[0m     meth \u001b[39m=\u001b[39m statement\u001b[39m.\u001b[39;49m_execute_on_connection\n\u001b[0;32m   1411\u001b[0m \u001b[39mexcept\u001b[39;00m \u001b[39mAttributeError\u001b[39;00m \u001b[39mas\u001b[39;00m err:\n",
      "\u001b[1;31mAttributeError\u001b[0m: 'str' object has no attribute '_execute_on_connection'",
      "\nThe above exception was the direct cause of the following exception:\n",
      "\u001b[1;31mObjectNotExecutableError\u001b[0m                  Traceback (most recent call last)",
      "Cell \u001b[1;32mIn[5], line 2\u001b[0m\n\u001b[0;32m      1\u001b[0m \u001b[39m# Demonstrating the use of pandasql and SQL in Pandas\u001b[39;00m\n\u001b[1;32m----> 2\u001b[0m sqldf(\u001b[39m'\u001b[39;49m\u001b[39mselect REASONDESCRIPTION, count(PATIENT) from df where REASONDESCRIPTION IS NOT NULL GROUP BY REASONDESCRIPTION ORDER BY count(PATIENT) DESC\u001b[39;49m\u001b[39m'\u001b[39;49m)\n\u001b[0;32m      3\u001b[0m \u001b[39m# df\u001b[39;00m\n",
      "File \u001b[1;32mc:\\Users\\gmb4303\\Documents\\GitHub\\PythonPreziPandasPolars\\CSTE-Presentation-2023\\.venv\\lib\\site-packages\\pandasql\\sqldf.py:156\u001b[0m, in \u001b[0;36msqldf\u001b[1;34m(query, env, db_uri)\u001b[0m\n\u001b[0;32m    124\u001b[0m \u001b[39mdef\u001b[39;00m \u001b[39msqldf\u001b[39m(query, env\u001b[39m=\u001b[39m\u001b[39mNone\u001b[39;00m, db_uri\u001b[39m=\u001b[39m\u001b[39m'\u001b[39m\u001b[39msqlite:///:memory:\u001b[39m\u001b[39m'\u001b[39m):\n\u001b[0;32m    125\u001b[0m \u001b[39m    \u001b[39m\u001b[39m\"\"\"\u001b[39;00m\n\u001b[0;32m    126\u001b[0m \u001b[39m    Query pandas data frames using sql syntax\u001b[39;00m\n\u001b[0;32m    127\u001b[0m \u001b[39m    This function is meant for backward compatibility only. New users are encouraged to use the PandaSQL class.\u001b[39;00m\n\u001b[1;32m   (...)\u001b[0m\n\u001b[0;32m    154\u001b[0m \u001b[39m    >>> sqldf(\"select avg(x) from df;\", locals())\u001b[39;00m\n\u001b[0;32m    155\u001b[0m \u001b[39m    \"\"\"\u001b[39;00m\n\u001b[1;32m--> 156\u001b[0m     \u001b[39mreturn\u001b[39;00m PandaSQL(db_uri)(query, env)\n",
      "File \u001b[1;32mc:\\Users\\gmb4303\\Documents\\GitHub\\PythonPreziPandasPolars\\CSTE-Presentation-2023\\.venv\\lib\\site-packages\\pandasql\\sqldf.py:61\u001b[0m, in \u001b[0;36mPandaSQL.__call__\u001b[1;34m(self, query, env)\u001b[0m\n\u001b[0;32m     58\u001b[0m     write_table(env[table_name], table_name, conn)\n\u001b[0;32m     60\u001b[0m \u001b[39mtry\u001b[39;00m:\n\u001b[1;32m---> 61\u001b[0m     result \u001b[39m=\u001b[39m read_sql(query, conn)\n\u001b[0;32m     62\u001b[0m \u001b[39mexcept\u001b[39;00m DatabaseError \u001b[39mas\u001b[39;00m ex:\n\u001b[0;32m     63\u001b[0m     \u001b[39mraise\u001b[39;00m PandaSQLException(ex)\n",
      "File \u001b[1;32mc:\\Users\\gmb4303\\Documents\\GitHub\\PythonPreziPandasPolars\\CSTE-Presentation-2023\\.venv\\lib\\site-packages\\pandas\\io\\sql.py:590\u001b[0m, in \u001b[0;36mread_sql\u001b[1;34m(sql, con, index_col, coerce_float, params, parse_dates, columns, chunksize)\u001b[0m\n\u001b[0;32m    581\u001b[0m     \u001b[39mreturn\u001b[39;00m pandas_sql\u001b[39m.\u001b[39mread_table(\n\u001b[0;32m    582\u001b[0m         sql,\n\u001b[0;32m    583\u001b[0m         index_col\u001b[39m=\u001b[39mindex_col,\n\u001b[1;32m   (...)\u001b[0m\n\u001b[0;32m    587\u001b[0m         chunksize\u001b[39m=\u001b[39mchunksize,\n\u001b[0;32m    588\u001b[0m     )\n\u001b[0;32m    589\u001b[0m \u001b[39melse\u001b[39;00m:\n\u001b[1;32m--> 590\u001b[0m     \u001b[39mreturn\u001b[39;00m pandas_sql\u001b[39m.\u001b[39;49mread_query(\n\u001b[0;32m    591\u001b[0m         sql,\n\u001b[0;32m    592\u001b[0m         index_col\u001b[39m=\u001b[39;49mindex_col,\n\u001b[0;32m    593\u001b[0m         params\u001b[39m=\u001b[39;49mparams,\n\u001b[0;32m    594\u001b[0m         coerce_float\u001b[39m=\u001b[39;49mcoerce_float,\n\u001b[0;32m    595\u001b[0m         parse_dates\u001b[39m=\u001b[39;49mparse_dates,\n\u001b[0;32m    596\u001b[0m         chunksize\u001b[39m=\u001b[39;49mchunksize,\n\u001b[0;32m    597\u001b[0m     )\n",
      "File \u001b[1;32mc:\\Users\\gmb4303\\Documents\\GitHub\\PythonPreziPandasPolars\\CSTE-Presentation-2023\\.venv\\lib\\site-packages\\pandas\\io\\sql.py:1560\u001b[0m, in \u001b[0;36mSQLDatabase.read_query\u001b[1;34m(self, sql, index_col, coerce_float, parse_dates, params, chunksize, dtype)\u001b[0m\n\u001b[0;32m   1512\u001b[0m \u001b[39m\u001b[39m\u001b[39m\"\"\"\u001b[39;00m\n\u001b[0;32m   1513\u001b[0m \u001b[39mRead SQL query into a DataFrame.\u001b[39;00m\n\u001b[0;32m   1514\u001b[0m \n\u001b[1;32m   (...)\u001b[0m\n\u001b[0;32m   1556\u001b[0m \n\u001b[0;32m   1557\u001b[0m \u001b[39m\"\"\"\u001b[39;00m\n\u001b[0;32m   1558\u001b[0m args \u001b[39m=\u001b[39m _convert_params(sql, params)\n\u001b[1;32m-> 1560\u001b[0m result \u001b[39m=\u001b[39m \u001b[39mself\u001b[39;49m\u001b[39m.\u001b[39;49mexecute(\u001b[39m*\u001b[39;49margs)\n\u001b[0;32m   1561\u001b[0m columns \u001b[39m=\u001b[39m result\u001b[39m.\u001b[39mkeys()\n\u001b[0;32m   1563\u001b[0m \u001b[39mif\u001b[39;00m chunksize \u001b[39mis\u001b[39;00m \u001b[39mnot\u001b[39;00m \u001b[39mNone\u001b[39;00m:\n",
      "File \u001b[1;32mc:\\Users\\gmb4303\\Documents\\GitHub\\PythonPreziPandasPolars\\CSTE-Presentation-2023\\.venv\\lib\\site-packages\\pandas\\io\\sql.py:1405\u001b[0m, in \u001b[0;36mSQLDatabase.execute\u001b[1;34m(self, *args, **kwargs)\u001b[0m\n\u001b[0;32m   1403\u001b[0m \u001b[39mdef\u001b[39;00m \u001b[39mexecute\u001b[39m(\u001b[39mself\u001b[39m, \u001b[39m*\u001b[39margs, \u001b[39m*\u001b[39m\u001b[39m*\u001b[39mkwargs):\n\u001b[0;32m   1404\u001b[0m \u001b[39m    \u001b[39m\u001b[39m\"\"\"Simple passthrough to SQLAlchemy connectable\"\"\"\u001b[39;00m\n\u001b[1;32m-> 1405\u001b[0m     \u001b[39mreturn\u001b[39;00m \u001b[39mself\u001b[39m\u001b[39m.\u001b[39mconnectable\u001b[39m.\u001b[39mexecution_options()\u001b[39m.\u001b[39mexecute(\u001b[39m*\u001b[39margs, \u001b[39m*\u001b[39m\u001b[39m*\u001b[39mkwargs)\n",
      "File \u001b[1;32mc:\\Users\\gmb4303\\Documents\\GitHub\\PythonPreziPandasPolars\\CSTE-Presentation-2023\\.venv\\lib\\site-packages\\sqlalchemy\\engine\\base.py:1412\u001b[0m, in \u001b[0;36mConnection.execute\u001b[1;34m(self, statement, parameters, execution_options)\u001b[0m\n\u001b[0;32m   1410\u001b[0m     meth \u001b[39m=\u001b[39m statement\u001b[39m.\u001b[39m_execute_on_connection\n\u001b[0;32m   1411\u001b[0m \u001b[39mexcept\u001b[39;00m \u001b[39mAttributeError\u001b[39;00m \u001b[39mas\u001b[39;00m err:\n\u001b[1;32m-> 1412\u001b[0m     \u001b[39mraise\u001b[39;00m exc\u001b[39m.\u001b[39mObjectNotExecutableError(statement) \u001b[39mfrom\u001b[39;00m \u001b[39merr\u001b[39;00m\n\u001b[0;32m   1413\u001b[0m \u001b[39melse\u001b[39;00m:\n\u001b[0;32m   1414\u001b[0m     \u001b[39mreturn\u001b[39;00m meth(\n\u001b[0;32m   1415\u001b[0m         \u001b[39mself\u001b[39m,\n\u001b[0;32m   1416\u001b[0m         distilled_parameters,\n\u001b[0;32m   1417\u001b[0m         execution_options \u001b[39mor\u001b[39;00m NO_OPTIONS,\n\u001b[0;32m   1418\u001b[0m     )\n",
      "\u001b[1;31mObjectNotExecutableError\u001b[0m: Not an executable object: 'select REASONDESCRIPTION, count(PATIENT) from df where REASONDESCRIPTION IS NOT NULL GROUP BY REASONDESCRIPTION ORDER BY count(PATIENT) DESC'"
     ]
    }
   ],
   "source": [
    "# Demonstrating the use of pandasql and SQL in Pandas\n",
    "sqldf('select REASONDESCRIPTION, count(PATIENT) from df where REASONDESCRIPTION IS NOT NULL GROUP BY REASONDESCRIPTION ORDER BY count(PATIENT) DESC')\n",
    "# df"
   ]
  },
  {
   "cell_type": "code",
   "execution_count": 39,
   "metadata": {},
   "outputs": [
    {
     "data": {
      "text/html": [
       "<div>\n",
       "<style scoped>\n",
       "    .dataframe tbody tr th:only-of-type {\n",
       "        vertical-align: middle;\n",
       "    }\n",
       "\n",
       "    .dataframe tbody tr th {\n",
       "        vertical-align: top;\n",
       "    }\n",
       "\n",
       "    .dataframe thead th {\n",
       "        text-align: right;\n",
       "    }\n",
       "</style>\n",
       "<table border=\"1\" class=\"dataframe\">\n",
       "  <thead>\n",
       "    <tr style=\"text-align: right;\">\n",
       "      <th></th>\n",
       "      <th>PATIENT</th>\n",
       "      <th>DESCRIPTION</th>\n",
       "      <th>BASE_COST</th>\n",
       "      <th>REASONDESCRIPTION</th>\n",
       "    </tr>\n",
       "  </thead>\n",
       "  <tbody>\n",
       "    <tr>\n",
       "      <th>6122</th>\n",
       "      <td>06809983-02a4-4307-ad13-7815750e3efa</td>\n",
       "      <td>24 HR Metformin hydrochloride 500 MG Extended ...</td>\n",
       "      <td>420.52</td>\n",
       "      <td>Diabetes</td>\n",
       "    </tr>\n",
       "    <tr>\n",
       "      <th>6123</th>\n",
       "      <td>06809983-02a4-4307-ad13-7815750e3efa</td>\n",
       "      <td>24 HR Metformin hydrochloride 500 MG Extended ...</td>\n",
       "      <td>47.73</td>\n",
       "      <td>Diabetes</td>\n",
       "    </tr>\n",
       "    <tr>\n",
       "      <th>6124</th>\n",
       "      <td>06809983-02a4-4307-ad13-7815750e3efa</td>\n",
       "      <td>24 HR Metformin hydrochloride 500 MG Extended ...</td>\n",
       "      <td>90.53</td>\n",
       "      <td>Diabetes</td>\n",
       "    </tr>\n",
       "    <tr>\n",
       "      <th>6125</th>\n",
       "      <td>06809983-02a4-4307-ad13-7815750e3efa</td>\n",
       "      <td>24 HR Metformin hydrochloride 500 MG Extended ...</td>\n",
       "      <td>63.22</td>\n",
       "      <td>Diabetes</td>\n",
       "    </tr>\n",
       "    <tr>\n",
       "      <th>6126</th>\n",
       "      <td>06809983-02a4-4307-ad13-7815750e3efa</td>\n",
       "      <td>24 HR Metformin hydrochloride 500 MG Extended ...</td>\n",
       "      <td>391.03</td>\n",
       "      <td>Diabetes</td>\n",
       "    </tr>\n",
       "    <tr>\n",
       "      <th>...</th>\n",
       "      <td>...</td>\n",
       "      <td>...</td>\n",
       "      <td>...</td>\n",
       "      <td>...</td>\n",
       "    </tr>\n",
       "    <tr>\n",
       "      <th>6371</th>\n",
       "      <td>06809983-02a4-4307-ad13-7815750e3efa</td>\n",
       "      <td>24 HR Metformin hydrochloride 500 MG Extended ...</td>\n",
       "      <td>148.46</td>\n",
       "      <td>Diabetes</td>\n",
       "    </tr>\n",
       "    <tr>\n",
       "      <th>6372</th>\n",
       "      <td>06809983-02a4-4307-ad13-7815750e3efa</td>\n",
       "      <td>insulin human  isophane 70 UNT/ML / Regular In...</td>\n",
       "      <td>681.90</td>\n",
       "      <td>Diabetes</td>\n",
       "    </tr>\n",
       "    <tr>\n",
       "      <th>6373</th>\n",
       "      <td>06809983-02a4-4307-ad13-7815750e3efa</td>\n",
       "      <td>24 HR Metformin hydrochloride 500 MG Extended ...</td>\n",
       "      <td>422.13</td>\n",
       "      <td>Diabetes</td>\n",
       "    </tr>\n",
       "    <tr>\n",
       "      <th>6374</th>\n",
       "      <td>06809983-02a4-4307-ad13-7815750e3efa</td>\n",
       "      <td>insulin human  isophane 70 UNT/ML / Regular In...</td>\n",
       "      <td>892.57</td>\n",
       "      <td>Diabetes</td>\n",
       "    </tr>\n",
       "    <tr>\n",
       "      <th>6375</th>\n",
       "      <td>06809983-02a4-4307-ad13-7815750e3efa</td>\n",
       "      <td>24 HR Metformin hydrochloride 500 MG Extended ...</td>\n",
       "      <td>362.43</td>\n",
       "      <td>Diabetes</td>\n",
       "    </tr>\n",
       "  </tbody>\n",
       "</table>\n",
       "<p>254 rows × 4 columns</p>\n",
       "</div>"
      ],
      "text/plain": [
       "                                   PATIENT  \\\n",
       "6122  06809983-02a4-4307-ad13-7815750e3efa   \n",
       "6123  06809983-02a4-4307-ad13-7815750e3efa   \n",
       "6124  06809983-02a4-4307-ad13-7815750e3efa   \n",
       "6125  06809983-02a4-4307-ad13-7815750e3efa   \n",
       "6126  06809983-02a4-4307-ad13-7815750e3efa   \n",
       "...                                    ...   \n",
       "6371  06809983-02a4-4307-ad13-7815750e3efa   \n",
       "6372  06809983-02a4-4307-ad13-7815750e3efa   \n",
       "6373  06809983-02a4-4307-ad13-7815750e3efa   \n",
       "6374  06809983-02a4-4307-ad13-7815750e3efa   \n",
       "6375  06809983-02a4-4307-ad13-7815750e3efa   \n",
       "\n",
       "                                            DESCRIPTION  BASE_COST  \\\n",
       "6122  24 HR Metformin hydrochloride 500 MG Extended ...     420.52   \n",
       "6123  24 HR Metformin hydrochloride 500 MG Extended ...      47.73   \n",
       "6124  24 HR Metformin hydrochloride 500 MG Extended ...      90.53   \n",
       "6125  24 HR Metformin hydrochloride 500 MG Extended ...      63.22   \n",
       "6126  24 HR Metformin hydrochloride 500 MG Extended ...     391.03   \n",
       "...                                                 ...        ...   \n",
       "6371  24 HR Metformin hydrochloride 500 MG Extended ...     148.46   \n",
       "6372  insulin human  isophane 70 UNT/ML / Regular In...     681.90   \n",
       "6373  24 HR Metformin hydrochloride 500 MG Extended ...     422.13   \n",
       "6374  insulin human  isophane 70 UNT/ML / Regular In...     892.57   \n",
       "6375  24 HR Metformin hydrochloride 500 MG Extended ...     362.43   \n",
       "\n",
       "     REASONDESCRIPTION  \n",
       "6122          Diabetes  \n",
       "6123          Diabetes  \n",
       "6124          Diabetes  \n",
       "6125          Diabetes  \n",
       "6126          Diabetes  \n",
       "...                ...  \n",
       "6371          Diabetes  \n",
       "6372          Diabetes  \n",
       "6373          Diabetes  \n",
       "6374          Diabetes  \n",
       "6375          Diabetes  \n",
       "\n",
       "[254 rows x 4 columns]"
      ]
     },
     "execution_count": 39,
     "metadata": {},
     "output_type": "execute_result"
    }
   ],
   "source": [
    "df[df['PATIENT'] == '05263cc0-8f93-4982-a2ee-c16ed99b8572']"
   ]
  },
  {
   "cell_type": "code",
   "execution_count": 1,
   "metadata": {},
   "outputs": [
    {
     "ename": "NameError",
     "evalue": "name 'df' is not defined",
     "output_type": "error",
     "traceback": [
      "\u001b[1;31m---------------------------------------------------------------------------\u001b[0m",
      "\u001b[1;31mNameError\u001b[0m                                 Traceback (most recent call last)",
      "Cell \u001b[1;32mIn[1], line 1\u001b[0m\n\u001b[1;32m----> 1\u001b[0m df\u001b[39m.\u001b[39mcount()\n",
      "\u001b[1;31mNameError\u001b[0m: name 'df' is not defined"
     ]
    }
   ],
   "source": [
    "df.count()"
   ]
  },
  {
   "cell_type": "code",
   "execution_count": 16,
   "metadata": {},
   "outputs": [
    {
     "data": {
      "text/plain": [
       "Hypertension                                                             3174\n",
       "Diabetes                                                                 2732\n",
       "Childhood asthma                                                         1356\n",
       "Hyperlipidemia                                                            574\n",
       "Pulmonary emphysema (disorder)                                             87\n",
       "Chronic obstructive bronchitis (disorder)                                  73\n",
       "Primary small cell malignant neoplasm of lung  TNM stage 1 (disorder)      60\n",
       "Non-small cell carcinoma of lung  TNM stage 1 (disorder)                   44\n",
       "Asthma                                                                     38\n",
       "Chronic congestive heart failure (disorder)                                33\n",
       "Hypoxemia (disorder)                                                       22\n",
       "Osteoarthritis of knee                                                     18\n",
       "Acute pulmonary embolism (disorder)                                        16\n",
       "Acute bronchitis (disorder)                                                14\n",
       "Acute deep venous thrombosis (disorder)                                    12\n",
       "Viral sinusitis (disorder)                                                  9\n",
       "Alzheimer's disease (disorder)                                              7\n",
       "Septic shock (disorder)                                                     6\n",
       "Escherichia coli urinary tract infection                                    6\n",
       "Contact dermatitis                                                          5\n",
       "Major depression  single episode                                            4\n",
       "COVID-19                                                                    3\n",
       "Posttraumatic stress disorder                                               3\n",
       "Streptococcal sore throat (disorder)                                        3\n",
       "Osteoarthritis of hip                                                       2\n",
       "Cystitis                                                                    2\n",
       "Secondary malignant neoplasm of colon                                       2\n",
       "Gout                                                                        2\n",
       "Primary fibromyalgia syndrome                                               1\n",
       "Malignant neoplasm of breast (disorder)                                     1\n",
       "Child attention deficit disorder                                            1\n",
       "Sinusitis (disorder)                                                        1\n",
       "Familial Alzheimer's disease of early onset (disorder)                      1\n",
       "Name: REASONDESCRIPTION, dtype: int64"
      ]
     },
     "execution_count": 16,
     "metadata": {},
     "output_type": "execute_result"
    }
   ],
   "source": [
    "df['REASONDESCRIPTION'].value_counts()"
   ]
  },
  {
   "cell_type": "code",
   "execution_count": null,
   "metadata": {},
   "outputs": [],
   "source": []
  }
 ],
 "metadata": {
  "kernelspec": {
   "display_name": ".venv",
   "language": "python",
   "name": "python3"
  },
  "language_info": {
   "codemirror_mode": {
    "name": "ipython",
    "version": 3
   },
   "file_extension": ".py",
   "mimetype": "text/x-python",
   "name": "python",
   "nbconvert_exporter": "python",
   "pygments_lexer": "ipython3",
   "version": "3.9.13"
  },
  "orig_nbformat": 4
 },
 "nbformat": 4,
 "nbformat_minor": 2
}
